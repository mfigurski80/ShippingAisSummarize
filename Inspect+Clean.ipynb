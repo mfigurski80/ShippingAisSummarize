{
 "cells": [
  {
   "cell_type": "code",
   "execution_count": 1,
   "metadata": {},
   "outputs": [],
   "source": [
    "import numpy as np\n",
    "import pandas as pd\n",
    "import matplotlib.pyplot as plt"
   ]
  },
  {
   "cell_type": "code",
   "execution_count": 57,
   "metadata": {},
   "outputs": [
    {
     "data": {
      "text/html": [
       "<div>\n",
       "<style scoped>\n",
       "    .dataframe tbody tr th:only-of-type {\n",
       "        vertical-align: middle;\n",
       "    }\n",
       "\n",
       "    .dataframe tbody tr th {\n",
       "        vertical-align: top;\n",
       "    }\n",
       "\n",
       "    .dataframe thead th {\n",
       "        text-align: right;\n",
       "    }\n",
       "</style>\n",
       "<table border=\"1\" class=\"dataframe\">\n",
       "  <thead>\n",
       "    <tr style=\"text-align: right;\">\n",
       "      <th></th>\n",
       "      <th>nShips</th>\n",
       "      <th>totalKmCovered</th>\n",
       "      <th>avgDaysPresent</th>\n",
       "      <th>avgDaysStationary</th>\n",
       "      <th>avgProportionOfStationaryDays</th>\n",
       "      <th>numDaysInMonth</th>\n",
       "      <th>totalShipArea</th>\n",
       "      <th>totalShipAreaPresent</th>\n",
       "      <th>totalShipAreaStationary</th>\n",
       "    </tr>\n",
       "    <tr>\n",
       "      <th>date</th>\n",
       "      <th></th>\n",
       "      <th></th>\n",
       "      <th></th>\n",
       "      <th></th>\n",
       "      <th></th>\n",
       "      <th></th>\n",
       "      <th></th>\n",
       "      <th></th>\n",
       "      <th></th>\n",
       "    </tr>\n",
       "  </thead>\n",
       "  <tbody>\n",
       "    <tr>\n",
       "      <th>2015-01-01</th>\n",
       "      <td>15</td>\n",
       "      <td>12140.81</td>\n",
       "      <td>9.00</td>\n",
       "      <td>3.87</td>\n",
       "      <td>0.33</td>\n",
       "      <td>31</td>\n",
       "      <td>162907.00</td>\n",
       "      <td>43192.26</td>\n",
       "      <td>22351.45</td>\n",
       "    </tr>\n",
       "    <tr>\n",
       "      <th>2015-02-01</th>\n",
       "      <td>16</td>\n",
       "      <td>7089.60</td>\n",
       "      <td>7.50</td>\n",
       "      <td>4.56</td>\n",
       "      <td>0.37</td>\n",
       "      <td>28</td>\n",
       "      <td>129006.00</td>\n",
       "      <td>42846.29</td>\n",
       "      <td>30003.14</td>\n",
       "    </tr>\n",
       "    <tr>\n",
       "      <th>2015-03-01</th>\n",
       "      <td>20</td>\n",
       "      <td>11635.69</td>\n",
       "      <td>8.70</td>\n",
       "      <td>4.70</td>\n",
       "      <td>0.53</td>\n",
       "      <td>31</td>\n",
       "      <td>199669.00</td>\n",
       "      <td>52520.13</td>\n",
       "      <td>32783.77</td>\n",
       "    </tr>\n",
       "    <tr>\n",
       "      <th>2015-04-01</th>\n",
       "      <td>16</td>\n",
       "      <td>10434.40</td>\n",
       "      <td>7.06</td>\n",
       "      <td>3.38</td>\n",
       "      <td>0.39</td>\n",
       "      <td>30</td>\n",
       "      <td>157517.00</td>\n",
       "      <td>28617.40</td>\n",
       "      <td>13986.13</td>\n",
       "    </tr>\n",
       "    <tr>\n",
       "      <th>2015-05-01</th>\n",
       "      <td>14</td>\n",
       "      <td>13470.87</td>\n",
       "      <td>9.21</td>\n",
       "      <td>2.93</td>\n",
       "      <td>0.40</td>\n",
       "      <td>31</td>\n",
       "      <td>158058.00</td>\n",
       "      <td>47628.58</td>\n",
       "      <td>18223.61</td>\n",
       "    </tr>\n",
       "    <tr>\n",
       "      <th>...</th>\n",
       "      <td>...</td>\n",
       "      <td>...</td>\n",
       "      <td>...</td>\n",
       "      <td>...</td>\n",
       "      <td>...</td>\n",
       "      <td>...</td>\n",
       "      <td>...</td>\n",
       "      <td>...</td>\n",
       "      <td>...</td>\n",
       "    </tr>\n",
       "    <tr>\n",
       "      <th>2021-08-01</th>\n",
       "      <td>158</td>\n",
       "      <td>230472.08</td>\n",
       "      <td>9.70</td>\n",
       "      <td>5.56</td>\n",
       "      <td>0.46</td>\n",
       "      <td>31</td>\n",
       "      <td>1666971.04</td>\n",
       "      <td>557718.65</td>\n",
       "      <td>332519.48</td>\n",
       "    </tr>\n",
       "    <tr>\n",
       "      <th>2021-09-01</th>\n",
       "      <td>180</td>\n",
       "      <td>368191.23</td>\n",
       "      <td>10.04</td>\n",
       "      <td>4.82</td>\n",
       "      <td>0.37</td>\n",
       "      <td>30</td>\n",
       "      <td>1797230.52</td>\n",
       "      <td>621517.97</td>\n",
       "      <td>314256.12</td>\n",
       "    </tr>\n",
       "    <tr>\n",
       "      <th>2021-10-01</th>\n",
       "      <td>187</td>\n",
       "      <td>310669.30</td>\n",
       "      <td>10.52</td>\n",
       "      <td>4.56</td>\n",
       "      <td>0.34</td>\n",
       "      <td>31</td>\n",
       "      <td>1918129.72</td>\n",
       "      <td>693487.89</td>\n",
       "      <td>320415.81</td>\n",
       "    </tr>\n",
       "    <tr>\n",
       "      <th>2021-11-01</th>\n",
       "      <td>157</td>\n",
       "      <td>384693.95</td>\n",
       "      <td>10.41</td>\n",
       "      <td>3.85</td>\n",
       "      <td>0.32</td>\n",
       "      <td>30</td>\n",
       "      <td>1660381.60</td>\n",
       "      <td>598837.10</td>\n",
       "      <td>220422.05</td>\n",
       "    </tr>\n",
       "    <tr>\n",
       "      <th>2021-12-01</th>\n",
       "      <td>142</td>\n",
       "      <td>206362.94</td>\n",
       "      <td>8.35</td>\n",
       "      <td>3.37</td>\n",
       "      <td>0.34</td>\n",
       "      <td>31</td>\n",
       "      <td>1449368.88</td>\n",
       "      <td>404233.61</td>\n",
       "      <td>177565.73</td>\n",
       "    </tr>\n",
       "  </tbody>\n",
       "</table>\n",
       "<p>84 rows × 9 columns</p>\n",
       "</div>"
      ],
      "text/plain": [
       "            nShips  totalKmCovered  avgDaysPresent  avgDaysStationary  \\\n",
       "date                                                                    \n",
       "2015-01-01      15        12140.81            9.00               3.87   \n",
       "2015-02-01      16         7089.60            7.50               4.56   \n",
       "2015-03-01      20        11635.69            8.70               4.70   \n",
       "2015-04-01      16        10434.40            7.06               3.38   \n",
       "2015-05-01      14        13470.87            9.21               2.93   \n",
       "...            ...             ...             ...                ...   \n",
       "2021-08-01     158       230472.08            9.70               5.56   \n",
       "2021-09-01     180       368191.23           10.04               4.82   \n",
       "2021-10-01     187       310669.30           10.52               4.56   \n",
       "2021-11-01     157       384693.95           10.41               3.85   \n",
       "2021-12-01     142       206362.94            8.35               3.37   \n",
       "\n",
       "            avgProportionOfStationaryDays  numDaysInMonth  totalShipArea  \\\n",
       "date                                                                       \n",
       "2015-01-01                           0.33              31      162907.00   \n",
       "2015-02-01                           0.37              28      129006.00   \n",
       "2015-03-01                           0.53              31      199669.00   \n",
       "2015-04-01                           0.39              30      157517.00   \n",
       "2015-05-01                           0.40              31      158058.00   \n",
       "...                                   ...             ...            ...   \n",
       "2021-08-01                           0.46              31     1666971.04   \n",
       "2021-09-01                           0.37              30     1797230.52   \n",
       "2021-10-01                           0.34              31     1918129.72   \n",
       "2021-11-01                           0.32              30     1660381.60   \n",
       "2021-12-01                           0.34              31     1449368.88   \n",
       "\n",
       "            totalShipAreaPresent  totalShipAreaStationary  \n",
       "date                                                       \n",
       "2015-01-01              43192.26                 22351.45  \n",
       "2015-02-01              42846.29                 30003.14  \n",
       "2015-03-01              52520.13                 32783.77  \n",
       "2015-04-01              28617.40                 13986.13  \n",
       "2015-05-01              47628.58                 18223.61  \n",
       "...                          ...                      ...  \n",
       "2021-08-01             557718.65                332519.48  \n",
       "2021-09-01             621517.97                314256.12  \n",
       "2021-10-01             693487.89                320415.81  \n",
       "2021-11-01             598837.10                220422.05  \n",
       "2021-12-01             404233.61                177565.73  \n",
       "\n",
       "[84 rows x 9 columns]"
      ]
     },
     "execution_count": 57,
     "metadata": {},
     "output_type": "execute_result"
    }
   ],
   "source": [
    "df = pd.read_csv(\"MONTHLY_AIS.csv\", parse_dates=['date'])\n",
    "df = df.groupby('date').last()\n",
    "df"
   ]
  },
  {
   "cell_type": "code",
   "execution_count": 59,
   "metadata": {},
   "outputs": [
    {
     "data": {
      "text/plain": [
       "<matplotlib.axes._subplots.AxesSubplot at 0x7f5909f84610>"
      ]
     },
     "execution_count": 59,
     "metadata": {},
     "output_type": "execute_result"
    },
    {
     "data": {
      "image/png": "[encoded data removed]",
      "text/plain": [
       "<Figure size 432x288 with 1 Axes>"
      ]
     },
     "metadata": {
      "needs_background": "light"
     },
     "output_type": "display_data"
    }
   ],
   "source": [
    "(df[['nShips']]).plot()\n",
    "# plt.plot(df['date'], df['totalShipAreaPresent'])"
   ]
  },
  {
   "cell_type": "code",
   "execution_count": 77,
   "metadata": {},
   "outputs": [
    {
     "data": {
      "text/plain": [
       "<matplotlib.axes._subplots.AxesSubplot at 0x7f5909bb6b20>"
      ]
     },
     "execution_count": 77,
     "metadata": {},
     "output_type": "execute_result"
    },
    {
     "data": {
      "image/png": "[encoded data removed]",
      "text/plain": [
       "<Figure size 432x288 with 1 Axes>"
      ]
     },
     "metadata": {
      "needs_background": "light"
     },
     "output_type": "display_data"
    }
   ],
   "source": [
    "safe = df.index >= pd.Timestamp('2018-01')\n",
    "df[safe][['nShips']].plot()"
   ]
  },
  {
   "cell_type": "code",
   "execution_count": null,
   "metadata": {},
   "outputs": [],
   "source": []
  }
 ],
 "metadata": {
  "kernelspec": {
   "display_name": "Python 3.8.2 64-bit",
   "language": "python",
   "name": "python38264bit27d239a34b0240c1ba1a3020d08db668"
  },
  "language_info": {
   "codemirror_mode": {
    "name": "ipython",
    "version": 3
   },
   "file_extension": ".py",
   "mimetype": "text/x-python",
   "name": "python",
   "nbconvert_exporter": "python",
   "pygments_lexer": "ipython3",
   "version": "3.8.10"
  }
 },
 "nbformat": 4,
 "nbformat_minor": 4
}
